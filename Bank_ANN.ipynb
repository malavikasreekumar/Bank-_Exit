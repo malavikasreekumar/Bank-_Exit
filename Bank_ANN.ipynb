{
  "nbformat": 4,
  "nbformat_minor": 0,
  "metadata": {
    "colab": {
      "name": "Bank_ANN.ipynb",
      "provenance": [],
      "collapsed_sections": [],
      "authorship_tag": "ABX9TyNN0zlUZ2f02CiU+Ko2zxWL",
      "include_colab_link": true
    },
    "kernelspec": {
      "name": "python3",
      "display_name": "Python 3"
    },
    "accelerator": "GPU"
  },
  "cells": [
    {
      "cell_type": "markdown",
      "metadata": {
        "id": "view-in-github",
        "colab_type": "text"
      },
      "source": [
        "<a href=\"https://colab.research.google.com/github/malavikasreekumar/Bank-_Exit/blob/master/Bank_ANN.ipynb\" target=\"_parent\"><img src=\"https://colab.research.google.com/assets/colab-badge.svg\" alt=\"Open In Colab\"/></a>"
      ]
    },
    {
      "cell_type": "code",
      "metadata": {
        "id": "tv1kBa6k-6Jh",
        "colab_type": "code",
        "outputId": "c99c9d5d-d157-4e2e-fefa-2488186cb5ec",
        "colab": {
          "base_uri": "https://localhost:8080/",
          "height": 125
        }
      },
      "source": [
        "from google.colab import drive\n",
        "drive.mount('/content/gdrive')"
      ],
      "execution_count": 3,
      "outputs": [
        {
          "output_type": "stream",
          "text": [
            "Go to this URL in a browser: https://accounts.google.com/o/oauth2/auth?client_id=947318989803-6bn6qk8qdgf4n4g3pfee6491hc0brc4i.apps.googleusercontent.com&redirect_uri=urn%3aietf%3awg%3aoauth%3a2.0%3aoob&response_type=code&scope=email%20https%3a%2f%2fwww.googleapis.com%2fauth%2fdocs.test%20https%3a%2f%2fwww.googleapis.com%2fauth%2fdrive%20https%3a%2f%2fwww.googleapis.com%2fauth%2fdrive.photos.readonly%20https%3a%2f%2fwww.googleapis.com%2fauth%2fpeopleapi.readonly\n",
            "\n",
            "Enter your authorization code:\n",
            "··········\n",
            "Mounted at /content/gdrive\n"
          ],
          "name": "stdout"
        }
      ]
    },
    {
      "cell_type": "code",
      "metadata": {
        "id": "B2V_UaBy_UEn",
        "colab_type": "code",
        "outputId": "68f63775-e11a-4398-c92d-11871c5c24d1",
        "colab": {
          "base_uri": "https://localhost:8080/",
          "height": 34
        }
      },
      "source": [
        "cd gdrive"
      ],
      "execution_count": 3,
      "outputs": [
        {
          "output_type": "stream",
          "text": [
            "/content/gdrive\n"
          ],
          "name": "stdout"
        }
      ]
    },
    {
      "cell_type": "code",
      "metadata": {
        "id": "CN6PKzBY_WvJ",
        "colab_type": "code",
        "outputId": "49a30009-05bb-4f0c-fee5-05afe4bcbf5e",
        "colab": {
          "base_uri": "https://localhost:8080/",
          "height": 52
        }
      },
      "source": [
        "cd My Drive"
      ],
      "execution_count": 5,
      "outputs": [
        {
          "output_type": "stream",
          "text": [
            "[Errno 2] No such file or directory: 'My Drive'\n",
            "/content/gdrive/My Drive\n"
          ],
          "name": "stdout"
        }
      ]
    },
    {
      "cell_type": "code",
      "metadata": {
        "id": "8FTRQNNV_buV",
        "colab_type": "code",
        "outputId": "8a5d5fe9-ab20-4d31-9206-994a34e33d4a",
        "colab": {
          "base_uri": "https://localhost:8080/",
          "height": 386
        }
      },
      "source": [
        "ls"
      ],
      "execution_count": 6,
      "outputs": [
        {
          "output_type": "stream",
          "text": [
            " 3a-knn.gslides                       '9B-kmeans-clustering (2).gslides'\n",
            " 3b-features.gslides                  '9B-kmeans-clustering (3).gslides'\n",
            " 3c-feature-extraction.gslides         9B-kmeans-clustering.gslides\n",
            "'3d-collab-filtering (1).gslides'     '9C-AHC-MOG (1).gslides'\n",
            " 3d-collab-filtering.gslides           9C-AHC-MOG.gslides\n",
            " 4a-probability-basics.gslides         Assessment.gform\n",
            " 4b-Bayesian-learning.gslides          Churn_Modelling.csv\n",
            "'4c-Naive-Bayes (1).gslides'          \u001b[0m\u001b[01;34m'Colab Notebooks'\u001b[0m/\n",
            " 4c-Naive-Bayes.gslides               'Customer Feedback (1).gform'\n",
            "'5a-logistic-regression (1).gslides'  'Customer Feedback.gform'\n",
            "'5a-logistic-regression (2).gslides'   \u001b[01;34mdataset\u001b[0m/\n",
            " 5a-logistic-regression.gslides       'Delta Solution  Assessment Form.gform'\n",
            " 5b-SVM.gslides                       \u001b[01;34m'DL '\u001b[0m/\n",
            "'7A-CLT1 (1).gslides'                  \u001b[01;34mDog_Cat\u001b[0m/\n",
            " 7A-CLT1.gslides                      'Getting started.pdf'\n",
            " 7B-CLT2-Infinite.gslides             'K-Nearest Neighbours.gslides'\n",
            " 8A-ensemble1.gslides                 'K-Nearest Neighbours.pptx'\n",
            "'9A-clustering-intro (1).gslides'     'Logistic Regression.gslides'\n",
            "'9A-clustering-intro (2).gslides'      \u001b[01;34mTraffic\u001b[0m/\n",
            " 9A-clustering-intro.gslides          'T-Shirt Sign Up.gform'\n",
            "'9B-kmeans-clustering (1).gslides'\n"
          ],
          "name": "stdout"
        }
      ]
    },
    {
      "cell_type": "code",
      "metadata": {
        "id": "PbmRGlD8_bxv",
        "colab_type": "code",
        "colab": {}
      },
      "source": [
        "#importing libraries\n",
        "import numpy as np\n",
        "import pandas as pd\n",
        "import matplotlib.pyplot as plt"
      ],
      "execution_count": 0,
      "outputs": []
    },
    {
      "cell_type": "code",
      "metadata": {
        "id": "st2CH4lHZX00",
        "colab_type": "code",
        "colab": {}
      },
      "source": [
        "#Importing Dataset\n",
        "dataset=pd.read_csv('Churn_Modelling.csv')\n",
        "X=dataset.iloc[:,3:13].values\n",
        "y=dataset.iloc[:,13]"
      ],
      "execution_count": 0,
      "outputs": []
    },
    {
      "cell_type": "code",
      "metadata": {
        "id": "rNqzdTaScY4J",
        "colab_type": "code",
        "outputId": "cdaea763-2482-43a3-b1de-c266fa6b3174",
        "colab": {
          "base_uri": "https://localhost:8080/",
          "height": 140
        }
      },
      "source": [
        "X"
      ],
      "execution_count": 9,
      "outputs": [
        {
          "output_type": "execute_result",
          "data": {
            "text/plain": [
              "array([[619, 'France', 'Female', ..., 1, 1, 101348.88],\n",
              "       [608, 'Spain', 'Female', ..., 0, 1, 112542.58],\n",
              "       [502, 'France', 'Female', ..., 1, 0, 113931.57],\n",
              "       ...,\n",
              "       [709, 'France', 'Female', ..., 0, 1, 42085.58],\n",
              "       [772, 'Germany', 'Male', ..., 1, 0, 92888.52],\n",
              "       [792, 'France', 'Female', ..., 1, 0, 38190.78]], dtype=object)"
            ]
          },
          "metadata": {
            "tags": []
          },
          "execution_count": 9
        }
      ]
    },
    {
      "cell_type": "code",
      "metadata": {
        "id": "uRS2GsYHcWbl",
        "colab_type": "code",
        "outputId": "a9044807-3ed2-4193-ea67-40be7b7fcfe3",
        "colab": {
          "base_uri": "https://localhost:8080/",
          "height": 195
        }
      },
      "source": [
        "dataset.head()"
      ],
      "execution_count": 10,
      "outputs": [
        {
          "output_type": "execute_result",
          "data": {
            "text/html": [
              "<div>\n",
              "<style scoped>\n",
              "    .dataframe tbody tr th:only-of-type {\n",
              "        vertical-align: middle;\n",
              "    }\n",
              "\n",
              "    .dataframe tbody tr th {\n",
              "        vertical-align: top;\n",
              "    }\n",
              "\n",
              "    .dataframe thead th {\n",
              "        text-align: right;\n",
              "    }\n",
              "</style>\n",
              "<table border=\"1\" class=\"dataframe\">\n",
              "  <thead>\n",
              "    <tr style=\"text-align: right;\">\n",
              "      <th></th>\n",
              "      <th>RowNumber</th>\n",
              "      <th>CustomerId</th>\n",
              "      <th>Surname</th>\n",
              "      <th>CreditScore</th>\n",
              "      <th>Geography</th>\n",
              "      <th>Gender</th>\n",
              "      <th>Age</th>\n",
              "      <th>Tenure</th>\n",
              "      <th>Balance</th>\n",
              "      <th>NumOfProducts</th>\n",
              "      <th>HasCrCard</th>\n",
              "      <th>IsActiveMember</th>\n",
              "      <th>EstimatedSalary</th>\n",
              "      <th>Exited</th>\n",
              "    </tr>\n",
              "  </thead>\n",
              "  <tbody>\n",
              "    <tr>\n",
              "      <th>0</th>\n",
              "      <td>1</td>\n",
              "      <td>15634602</td>\n",
              "      <td>Hargrave</td>\n",
              "      <td>619</td>\n",
              "      <td>France</td>\n",
              "      <td>Female</td>\n",
              "      <td>42</td>\n",
              "      <td>2</td>\n",
              "      <td>0.00</td>\n",
              "      <td>1</td>\n",
              "      <td>1</td>\n",
              "      <td>1</td>\n",
              "      <td>101348.88</td>\n",
              "      <td>1</td>\n",
              "    </tr>\n",
              "    <tr>\n",
              "      <th>1</th>\n",
              "      <td>2</td>\n",
              "      <td>15647311</td>\n",
              "      <td>Hill</td>\n",
              "      <td>608</td>\n",
              "      <td>Spain</td>\n",
              "      <td>Female</td>\n",
              "      <td>41</td>\n",
              "      <td>1</td>\n",
              "      <td>83807.86</td>\n",
              "      <td>1</td>\n",
              "      <td>0</td>\n",
              "      <td>1</td>\n",
              "      <td>112542.58</td>\n",
              "      <td>0</td>\n",
              "    </tr>\n",
              "    <tr>\n",
              "      <th>2</th>\n",
              "      <td>3</td>\n",
              "      <td>15619304</td>\n",
              "      <td>Onio</td>\n",
              "      <td>502</td>\n",
              "      <td>France</td>\n",
              "      <td>Female</td>\n",
              "      <td>42</td>\n",
              "      <td>8</td>\n",
              "      <td>159660.80</td>\n",
              "      <td>3</td>\n",
              "      <td>1</td>\n",
              "      <td>0</td>\n",
              "      <td>113931.57</td>\n",
              "      <td>1</td>\n",
              "    </tr>\n",
              "    <tr>\n",
              "      <th>3</th>\n",
              "      <td>4</td>\n",
              "      <td>15701354</td>\n",
              "      <td>Boni</td>\n",
              "      <td>699</td>\n",
              "      <td>France</td>\n",
              "      <td>Female</td>\n",
              "      <td>39</td>\n",
              "      <td>1</td>\n",
              "      <td>0.00</td>\n",
              "      <td>2</td>\n",
              "      <td>0</td>\n",
              "      <td>0</td>\n",
              "      <td>93826.63</td>\n",
              "      <td>0</td>\n",
              "    </tr>\n",
              "    <tr>\n",
              "      <th>4</th>\n",
              "      <td>5</td>\n",
              "      <td>15737888</td>\n",
              "      <td>Mitchell</td>\n",
              "      <td>850</td>\n",
              "      <td>Spain</td>\n",
              "      <td>Female</td>\n",
              "      <td>43</td>\n",
              "      <td>2</td>\n",
              "      <td>125510.82</td>\n",
              "      <td>1</td>\n",
              "      <td>1</td>\n",
              "      <td>1</td>\n",
              "      <td>79084.10</td>\n",
              "      <td>0</td>\n",
              "    </tr>\n",
              "  </tbody>\n",
              "</table>\n",
              "</div>"
            ],
            "text/plain": [
              "   RowNumber  CustomerId   Surname  ...  IsActiveMember EstimatedSalary Exited\n",
              "0          1    15634602  Hargrave  ...               1       101348.88      1\n",
              "1          2    15647311      Hill  ...               1       112542.58      0\n",
              "2          3    15619304      Onio  ...               0       113931.57      1\n",
              "3          4    15701354      Boni  ...               0        93826.63      0\n",
              "4          5    15737888  Mitchell  ...               1        79084.10      0\n",
              "\n",
              "[5 rows x 14 columns]"
            ]
          },
          "metadata": {
            "tags": []
          },
          "execution_count": 10
        }
      ]
    },
    {
      "cell_type": "code",
      "metadata": {
        "id": "r3GQq2-nd8bR",
        "colab_type": "code",
        "outputId": "fa14c885-553e-473f-f263-7aaba0791d02",
        "colab": {
          "base_uri": "https://localhost:8080/",
          "height": 140
        }
      },
      "source": [
        "from sklearn.preprocessing import LabelEncoder,OneHotEncoder\n",
        "labelencoder_X_1=LabelEncoder()\n",
        "X[:,1]=labelencoder_X_1.fit_transform(X[:,1])\n",
        "\n",
        "labelencoder_X_2=LabelEncoder()\n",
        "X[:,2]=labelencoder_X_2.fit_transform(X[:,2])\n",
        "print(X)"
      ],
      "execution_count": 11,
      "outputs": [
        {
          "output_type": "stream",
          "text": [
            "[[619 0 0 ... 1 1 101348.88]\n",
            " [608 2 0 ... 0 1 112542.58]\n",
            " [502 0 0 ... 1 0 113931.57]\n",
            " ...\n",
            " [709 0 0 ... 0 1 42085.58]\n",
            " [772 1 1 ... 1 0 92888.52]\n",
            " [792 0 0 ... 1 0 38190.78]]\n"
          ],
          "name": "stdout"
        }
      ]
    },
    {
      "cell_type": "code",
      "metadata": {
        "id": "Ev9aDgGBghA4",
        "colab_type": "code",
        "outputId": "5043eb71-f67a-4bb0-95a5-bf5f5203ebbf",
        "colab": {
          "base_uri": "https://localhost:8080/",
          "height": 140
        }
      },
      "source": [
        "\"\"\"onehotencoder=OneHotEncoder([1])\n",
        "X=onehotencoder.fit_transform(X).toarray()\n",
        "labelencoder_y=LabelEncoder()\n",
        "y=labelencoder_y.fit_transform(y)\"\"\"\n",
        "\n",
        "from sklearn.compose import ColumnTransformer\n",
        "columnTransformer = ColumnTransformer([('encoder', OneHotEncoder(), [1])], remainder='passthrough')\n",
        " \n",
        "X = np.array(columnTransformer.fit_transform(X), dtype = np.str)\n",
        " \n",
        "X = X[:, 1:]\n",
        "print(X)"
      ],
      "execution_count": 12,
      "outputs": [
        {
          "output_type": "stream",
          "text": [
            "[['0.0' '0.0' '619' ... '1' '1' '101348.88']\n",
            " ['0.0' '1.0' '608' ... '0' '1' '112542.58']\n",
            " ['0.0' '0.0' '502' ... '1' '0' '113931.57']\n",
            " ...\n",
            " ['0.0' '0.0' '709' ... '0' '1' '42085.58']\n",
            " ['1.0' '0.0' '772' ... '1' '0' '92888.52']\n",
            " ['0.0' '0.0' '792' ... '1' '0' '38190.78']]\n"
          ],
          "name": "stdout"
        }
      ]
    },
    {
      "cell_type": "code",
      "metadata": {
        "id": "35xcbPn1Zzpv",
        "colab_type": "code",
        "colab": {}
      },
      "source": [
        "from sklearn.model_selection import train_test_split\n",
        "X_train,X_test,y_train,y_test=train_test_split(X,y,test_size=.20,random_state=0)"
      ],
      "execution_count": 0,
      "outputs": []
    },
    {
      "cell_type": "code",
      "metadata": {
        "id": "HnnD_MUaaNzK",
        "colab_type": "code",
        "colab": {}
      },
      "source": [
        "from sklearn.preprocessing import StandardScaler\n",
        "sc=StandardScaler()\n",
        "X_train=sc.fit_transform(X_train)\n",
        "X_test=sc.transform(X_test)"
      ],
      "execution_count": 0,
      "outputs": []
    },
    {
      "cell_type": "code",
      "metadata": {
        "id": "W_wGW5N8mnhl",
        "colab_type": "code",
        "colab": {
          "base_uri": "https://localhost:8080/",
          "height": 34
        },
        "outputId": "39c76a17-1abb-4508-92dc-00aaaa06e72e"
      },
      "source": [
        "#Importing keras\n",
        "import keras"
      ],
      "execution_count": 15,
      "outputs": [
        {
          "output_type": "stream",
          "text": [
            "Using TensorFlow backend.\n"
          ],
          "name": "stderr"
        }
      ]
    },
    {
      "cell_type": "code",
      "metadata": {
        "id": "6u-OZQmGytSk",
        "colab_type": "code",
        "colab": {}
      },
      "source": [
        "from keras.models import Sequential\n",
        "from keras.layers import Dense"
      ],
      "execution_count": 0,
      "outputs": []
    },
    {
      "cell_type": "code",
      "metadata": {
        "id": "CsOhW9m2nga4",
        "colab_type": "code",
        "colab": {}
      },
      "source": [
        "#Initialising ANN\n",
        "classifier=Sequential()"
      ],
      "execution_count": 0,
      "outputs": []
    },
    {
      "cell_type": "code",
      "metadata": {
        "id": "dB43p3l0zf6A",
        "colab_type": "code",
        "colab": {}
      },
      "source": [
        "#Adding input layer and first hidden layer\n",
        "classifier.add(Dense(units=6,kernel_initializer='uniform', activation='relu',input_dim=11))"
      ],
      "execution_count": 0,
      "outputs": []
    },
    {
      "cell_type": "code",
      "metadata": {
        "id": "WoZTW3KSBOON",
        "colab_type": "code",
        "colab": {}
      },
      "source": [
        "classifier.add(Dense(units=6,kernel_initializer='uniform', activation='relu'))"
      ],
      "execution_count": 0,
      "outputs": []
    },
    {
      "cell_type": "code",
      "metadata": {
        "id": "lQZMEBgo1_Oz",
        "colab_type": "code",
        "colab": {}
      },
      "source": [
        "classifier.add(Dense(units=1,kernel_initializer='uniform',activation='sigmoid'))"
      ],
      "execution_count": 0,
      "outputs": []
    },
    {
      "cell_type": "code",
      "metadata": {
        "id": "--5CaiW77LUX",
        "colab_type": "code",
        "colab": {}
      },
      "source": [
        "#Compiling ANN\n",
        "classifier.compile(optimizer='adam',loss='binary_crossentropy',metrics=['accuracy'])"
      ],
      "execution_count": 0,
      "outputs": []
    },
    {
      "cell_type": "code",
      "metadata": {
        "id": "flPSuUhW_SiC",
        "colab_type": "code",
        "colab": {
          "base_uri": "https://localhost:8080/",
          "height": 1000
        },
        "outputId": "46941bb3-f2a1-433f-8624-8eb712680f85"
      },
      "source": [
        "classifier.fit(X_train,y_train,batch_size=10,epochs=100)"
      ],
      "execution_count": 25,
      "outputs": [
        {
          "output_type": "stream",
          "text": [
            "Epoch 1/100\n",
            "8000/8000 [==============================] - 3s 380us/step - loss: 0.4188 - accuracy: 0.8196\n",
            "Epoch 2/100\n",
            "8000/8000 [==============================] - 3s 365us/step - loss: 0.4160 - accuracy: 0.8249\n",
            "Epoch 3/100\n",
            "8000/8000 [==============================] - 3s 401us/step - loss: 0.4142 - accuracy: 0.8300\n",
            "Epoch 4/100\n",
            "8000/8000 [==============================] - 3s 399us/step - loss: 0.4132 - accuracy: 0.8306\n",
            "Epoch 5/100\n",
            "8000/8000 [==============================] - 3s 371us/step - loss: 0.4121 - accuracy: 0.8316\n",
            "Epoch 6/100\n",
            "8000/8000 [==============================] - 3s 368us/step - loss: 0.4112 - accuracy: 0.8303\n",
            "Epoch 7/100\n",
            "8000/8000 [==============================] - 3s 382us/step - loss: 0.4104 - accuracy: 0.8340\n",
            "Epoch 8/100\n",
            "8000/8000 [==============================] - 3s 371us/step - loss: 0.4096 - accuracy: 0.8315\n",
            "Epoch 9/100\n",
            "8000/8000 [==============================] - 3s 358us/step - loss: 0.4088 - accuracy: 0.8335\n",
            "Epoch 10/100\n",
            "8000/8000 [==============================] - 3s 371us/step - loss: 0.4082 - accuracy: 0.8326\n",
            "Epoch 11/100\n",
            "8000/8000 [==============================] - 3s 378us/step - loss: 0.4071 - accuracy: 0.8344\n",
            "Epoch 12/100\n",
            "8000/8000 [==============================] - 3s 378us/step - loss: 0.4073 - accuracy: 0.8344\n",
            "Epoch 13/100\n",
            "8000/8000 [==============================] - 3s 376us/step - loss: 0.4062 - accuracy: 0.8353\n",
            "Epoch 14/100\n",
            "8000/8000 [==============================] - 3s 353us/step - loss: 0.4062 - accuracy: 0.8341\n",
            "Epoch 15/100\n",
            "8000/8000 [==============================] - 3s 356us/step - loss: 0.4058 - accuracy: 0.8354\n",
            "Epoch 16/100\n",
            "8000/8000 [==============================] - 3s 394us/step - loss: 0.4050 - accuracy: 0.8341\n",
            "Epoch 17/100\n",
            "8000/8000 [==============================] - 3s 375us/step - loss: 0.4051 - accuracy: 0.8341\n",
            "Epoch 18/100\n",
            "8000/8000 [==============================] - 3s 355us/step - loss: 0.4047 - accuracy: 0.8346\n",
            "Epoch 19/100\n",
            "8000/8000 [==============================] - 3s 349us/step - loss: 0.4045 - accuracy: 0.8341\n",
            "Epoch 20/100\n",
            "8000/8000 [==============================] - 3s 357us/step - loss: 0.4042 - accuracy: 0.8341\n",
            "Epoch 21/100\n",
            "8000/8000 [==============================] - 3s 359us/step - loss: 0.4041 - accuracy: 0.8341\n",
            "Epoch 22/100\n",
            "8000/8000 [==============================] - 3s 361us/step - loss: 0.4037 - accuracy: 0.8351\n",
            "Epoch 23/100\n",
            "8000/8000 [==============================] - 3s 374us/step - loss: 0.4039 - accuracy: 0.8350\n",
            "Epoch 24/100\n",
            "8000/8000 [==============================] - 3s 393us/step - loss: 0.4037 - accuracy: 0.8350\n",
            "Epoch 25/100\n",
            "8000/8000 [==============================] - 3s 376us/step - loss: 0.4037 - accuracy: 0.8341\n",
            "Epoch 26/100\n",
            "8000/8000 [==============================] - 3s 392us/step - loss: 0.4035 - accuracy: 0.8340\n",
            "Epoch 27/100\n",
            "8000/8000 [==============================] - 3s 399us/step - loss: 0.4034 - accuracy: 0.8359\n",
            "Epoch 28/100\n",
            "8000/8000 [==============================] - 3s 399us/step - loss: 0.4035 - accuracy: 0.8342\n",
            "Epoch 29/100\n",
            "8000/8000 [==============================] - 3s 358us/step - loss: 0.4030 - accuracy: 0.8339\n",
            "Epoch 30/100\n",
            "8000/8000 [==============================] - 3s 410us/step - loss: 0.4028 - accuracy: 0.8355\n",
            "Epoch 31/100\n",
            "8000/8000 [==============================] - 3s 353us/step - loss: 0.4026 - accuracy: 0.8359\n",
            "Epoch 32/100\n",
            "8000/8000 [==============================] - 3s 391us/step - loss: 0.4033 - accuracy: 0.8336\n",
            "Epoch 33/100\n",
            "8000/8000 [==============================] - 3s 363us/step - loss: 0.4024 - accuracy: 0.8349\n",
            "Epoch 34/100\n",
            "8000/8000 [==============================] - 3s 357us/step - loss: 0.4026 - accuracy: 0.8346\n",
            "Epoch 35/100\n",
            "8000/8000 [==============================] - 3s 368us/step - loss: 0.4030 - accuracy: 0.8345\n",
            "Epoch 36/100\n",
            "8000/8000 [==============================] - 3s 410us/step - loss: 0.4024 - accuracy: 0.8325\n",
            "Epoch 37/100\n",
            "8000/8000 [==============================] - 3s 411us/step - loss: 0.4027 - accuracy: 0.8353\n",
            "Epoch 38/100\n",
            "8000/8000 [==============================] - 3s 385us/step - loss: 0.4023 - accuracy: 0.8336\n",
            "Epoch 39/100\n",
            "8000/8000 [==============================] - 3s 373us/step - loss: 0.4023 - accuracy: 0.8351\n",
            "Epoch 40/100\n",
            "8000/8000 [==============================] - 3s 366us/step - loss: 0.4026 - accuracy: 0.8336\n",
            "Epoch 41/100\n",
            "8000/8000 [==============================] - 3s 352us/step - loss: 0.4022 - accuracy: 0.8341\n",
            "Epoch 42/100\n",
            "8000/8000 [==============================] - 3s 361us/step - loss: 0.4026 - accuracy: 0.8356\n",
            "Epoch 43/100\n",
            "8000/8000 [==============================] - 3s 377us/step - loss: 0.4020 - accuracy: 0.8339\n",
            "Epoch 44/100\n",
            "8000/8000 [==============================] - 3s 352us/step - loss: 0.4023 - accuracy: 0.8346\n",
            "Epoch 45/100\n",
            "8000/8000 [==============================] - 3s 355us/step - loss: 0.4017 - accuracy: 0.8344\n",
            "Epoch 46/100\n",
            "8000/8000 [==============================] - 3s 379us/step - loss: 0.4027 - accuracy: 0.8346\n",
            "Epoch 47/100\n",
            "8000/8000 [==============================] - 3s 365us/step - loss: 0.4026 - accuracy: 0.8342\n",
            "Epoch 48/100\n",
            "8000/8000 [==============================] - 3s 392us/step - loss: 0.4020 - accuracy: 0.8336\n",
            "Epoch 49/100\n",
            "8000/8000 [==============================] - 3s 373us/step - loss: 0.4019 - accuracy: 0.8342\n",
            "Epoch 50/100\n",
            "8000/8000 [==============================] - 3s 394us/step - loss: 0.4020 - accuracy: 0.8346\n",
            "Epoch 51/100\n",
            "8000/8000 [==============================] - 3s 373us/step - loss: 0.4023 - accuracy: 0.8341\n",
            "Epoch 52/100\n",
            "8000/8000 [==============================] - 3s 363us/step - loss: 0.4024 - accuracy: 0.8335\n",
            "Epoch 53/100\n",
            "8000/8000 [==============================] - 3s 359us/step - loss: 0.4019 - accuracy: 0.8346\n",
            "Epoch 54/100\n",
            "8000/8000 [==============================] - 3s 392us/step - loss: 0.4019 - accuracy: 0.8354\n",
            "Epoch 55/100\n",
            "8000/8000 [==============================] - 3s 361us/step - loss: 0.4020 - accuracy: 0.8347\n",
            "Epoch 56/100\n",
            "8000/8000 [==============================] - 3s 359us/step - loss: 0.4025 - accuracy: 0.8340\n",
            "Epoch 57/100\n",
            "8000/8000 [==============================] - 3s 382us/step - loss: 0.4016 - accuracy: 0.8331\n",
            "Epoch 58/100\n",
            "8000/8000 [==============================] - 3s 364us/step - loss: 0.4020 - accuracy: 0.8330\n",
            "Epoch 59/100\n",
            "8000/8000 [==============================] - 3s 360us/step - loss: 0.4021 - accuracy: 0.8344\n",
            "Epoch 60/100\n",
            "8000/8000 [==============================] - 3s 372us/step - loss: 0.4017 - accuracy: 0.8344\n",
            "Epoch 61/100\n",
            "8000/8000 [==============================] - 3s 368us/step - loss: 0.4021 - accuracy: 0.8349\n",
            "Epoch 62/100\n",
            "8000/8000 [==============================] - 3s 405us/step - loss: 0.4019 - accuracy: 0.8341\n",
            "Epoch 63/100\n",
            "8000/8000 [==============================] - 3s 396us/step - loss: 0.4016 - accuracy: 0.8346\n",
            "Epoch 64/100\n",
            "8000/8000 [==============================] - 3s 401us/step - loss: 0.4021 - accuracy: 0.8347\n",
            "Epoch 65/100\n",
            "8000/8000 [==============================] - 3s 357us/step - loss: 0.4022 - accuracy: 0.8325\n",
            "Epoch 66/100\n",
            "8000/8000 [==============================] - 3s 354us/step - loss: 0.4014 - accuracy: 0.8349\n",
            "Epoch 67/100\n",
            "8000/8000 [==============================] - 3s 369us/step - loss: 0.4020 - accuracy: 0.8351\n",
            "Epoch 68/100\n",
            "8000/8000 [==============================] - 3s 390us/step - loss: 0.4020 - accuracy: 0.8339\n",
            "Epoch 69/100\n",
            "8000/8000 [==============================] - 3s 393us/step - loss: 0.4018 - accuracy: 0.8331\n",
            "Epoch 70/100\n",
            "8000/8000 [==============================] - 3s 387us/step - loss: 0.4020 - accuracy: 0.8344\n",
            "Epoch 71/100\n",
            "8000/8000 [==============================] - 3s 390us/step - loss: 0.4019 - accuracy: 0.8331\n",
            "Epoch 72/100\n",
            "8000/8000 [==============================] - 3s 371us/step - loss: 0.4016 - accuracy: 0.8342\n",
            "Epoch 73/100\n",
            "8000/8000 [==============================] - 3s 395us/step - loss: 0.4019 - accuracy: 0.8334\n",
            "Epoch 74/100\n",
            "8000/8000 [==============================] - 3s 365us/step - loss: 0.4017 - accuracy: 0.8338\n",
            "Epoch 75/100\n",
            "8000/8000 [==============================] - 3s 381us/step - loss: 0.4015 - accuracy: 0.8341\n",
            "Epoch 76/100\n",
            "8000/8000 [==============================] - 3s 358us/step - loss: 0.4013 - accuracy: 0.8341\n",
            "Epoch 77/100\n",
            "8000/8000 [==============================] - 3s 383us/step - loss: 0.4024 - accuracy: 0.8344\n",
            "Epoch 78/100\n",
            "8000/8000 [==============================] - 3s 383us/step - loss: 0.4017 - accuracy: 0.8334\n",
            "Epoch 79/100\n",
            "8000/8000 [==============================] - 3s 367us/step - loss: 0.4017 - accuracy: 0.8340\n",
            "Epoch 80/100\n",
            "8000/8000 [==============================] - 3s 370us/step - loss: 0.4020 - accuracy: 0.8345\n",
            "Epoch 81/100\n",
            "8000/8000 [==============================] - 3s 375us/step - loss: 0.4020 - accuracy: 0.8339\n",
            "Epoch 82/100\n",
            "8000/8000 [==============================] - 3s 356us/step - loss: 0.4018 - accuracy: 0.8351\n",
            "Epoch 83/100\n",
            "8000/8000 [==============================] - 3s 357us/step - loss: 0.4019 - accuracy: 0.8334\n",
            "Epoch 84/100\n",
            "8000/8000 [==============================] - 3s 388us/step - loss: 0.4016 - accuracy: 0.8342\n",
            "Epoch 85/100\n",
            "8000/8000 [==============================] - 3s 362us/step - loss: 0.4021 - accuracy: 0.8339\n",
            "Epoch 86/100\n",
            "8000/8000 [==============================] - 3s 368us/step - loss: 0.4016 - accuracy: 0.8340\n",
            "Epoch 87/100\n",
            "8000/8000 [==============================] - 3s 348us/step - loss: 0.4017 - accuracy: 0.8350\n",
            "Epoch 88/100\n",
            "8000/8000 [==============================] - 3s 379us/step - loss: 0.4017 - accuracy: 0.8338\n",
            "Epoch 89/100\n",
            "8000/8000 [==============================] - 3s 350us/step - loss: 0.4017 - accuracy: 0.8335\n",
            "Epoch 90/100\n",
            "8000/8000 [==============================] - 3s 357us/step - loss: 0.4016 - accuracy: 0.8347\n",
            "Epoch 91/100\n",
            "8000/8000 [==============================] - 3s 382us/step - loss: 0.4015 - accuracy: 0.8353\n",
            "Epoch 92/100\n",
            "8000/8000 [==============================] - 3s 406us/step - loss: 0.4019 - accuracy: 0.8346\n",
            "Epoch 93/100\n",
            "8000/8000 [==============================] - 3s 400us/step - loss: 0.4018 - accuracy: 0.8332\n",
            "Epoch 94/100\n",
            "8000/8000 [==============================] - 3s 367us/step - loss: 0.4019 - accuracy: 0.8355\n",
            "Epoch 95/100\n",
            "8000/8000 [==============================] - 3s 352us/step - loss: 0.4014 - accuracy: 0.8345\n",
            "Epoch 96/100\n",
            "8000/8000 [==============================] - 3s 349us/step - loss: 0.4016 - accuracy: 0.8330\n",
            "Epoch 97/100\n",
            "8000/8000 [==============================] - 3s 369us/step - loss: 0.4016 - accuracy: 0.8347\n",
            "Epoch 98/100\n",
            "8000/8000 [==============================] - 3s 357us/step - loss: 0.4014 - accuracy: 0.8331\n",
            "Epoch 99/100\n",
            "8000/8000 [==============================] - 3s 375us/step - loss: 0.4012 - accuracy: 0.8357\n",
            "Epoch 100/100\n",
            "8000/8000 [==============================] - 3s 372us/step - loss: 0.4019 - accuracy: 0.8332\n"
          ],
          "name": "stdout"
        },
        {
          "output_type": "execute_result",
          "data": {
            "text/plain": [
              "<keras.callbacks.callbacks.History at 0x7fca88d9fb00>"
            ]
          },
          "metadata": {
            "tags": []
          },
          "execution_count": 25
        }
      ]
    },
    {
      "cell_type": "code",
      "metadata": {
        "id": "Mj1GW5feazJe",
        "colab_type": "code",
        "colab": {
          "base_uri": "https://localhost:8080/",
          "height": 140
        },
        "outputId": "7ab1d1b8-8285-450d-d04e-df689421d5c4"
      },
      "source": [
        "y_pred=classifier.predict(X_test)\n",
        "print(y_pred)\n",
        "y_pred = (y_pred > 0.5)"
      ],
      "execution_count": 29,
      "outputs": [
        {
          "output_type": "stream",
          "text": [
            "[[0.248668  ]\n",
            " [0.3332343 ]\n",
            " [0.19707057]\n",
            " ...\n",
            " [0.17409724]\n",
            " [0.16817231]\n",
            " [0.12607872]]\n"
          ],
          "name": "stdout"
        }
      ]
    },
    {
      "cell_type": "code",
      "metadata": {
        "id": "HXsKDB6EDOLN",
        "colab_type": "code",
        "colab": {
          "base_uri": "https://localhost:8080/",
          "height": 52
        },
        "outputId": "a0ad1b9a-a30d-45d7-d55a-ebc6a1b241e0"
      },
      "source": [
        "from sklearn.metrics import confusion_matrix\n",
        "cm=confusion_matrix(y_test,y_pred)\n",
        "print(cm)"
      ],
      "execution_count": 31,
      "outputs": [
        {
          "output_type": "stream",
          "text": [
            "[[1546   49]\n",
            " [ 265  140]]\n"
          ],
          "name": "stdout"
        }
      ]
    }
  ]
}